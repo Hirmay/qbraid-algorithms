{
 "cells": [
  {
   "cell_type": "markdown",
   "metadata": {},
   "source": [
    "# Echo State Network against Time Series"
   ]
  },
  {
   "cell_type": "code",
   "execution_count": null,
   "metadata": {},
   "outputs": [],
   "source": [
    "import time\n",
    "\n",
    "import torch\n",
    "from torch.utils.data import TensorDataset, DataLoader\n",
    "import matplotlib.pyplot as plt\n",
    "import numpy as np\n",
    "\n",
    "from qbraid_algorithms import EchoStateNetwork, EchoStateReservoir"
   ]
  },
  {
   "cell_type": "markdown",
   "metadata": {},
   "source": [
    "Format Time Series data to work with the ESN"
   ]
  },
  {
   "cell_type": "code",
   "execution_count": null,
   "metadata": {},
   "outputs": [],
   "source": [
    "def create_sequences(data, n_steps):\n",
    "    X, y = [], []\n",
    "    for i in range(len(data) - n_steps):\n",
    "        seq_x, seq_y = data[i:i+n_steps], data[i+n_steps]\n",
    "        X.append(seq_x)\n",
    "        y.append(seq_y)\n",
    "    return torch.tensor(X, dtype=torch.float32), torch.tensor(y, dtype=torch.float32).view(-1,1, 1)\n",
    "\n",
    "n_steps = 10\n",
    "\n",
    "t = np.linspace(0, 2 * np.pi * 10, 1000)\n",
    "data = np.sin(t)\n",
    "X, y = create_sequences(data, n_steps)\n",
    "trainset = TensorDataset(X, y)\n",
    "trainloader = DataLoader(trainset, shuffle=True)"
   ]
  },
  {
   "cell_type": "markdown",
   "metadata": {},
   "source": [
    "Initialize ESN, optimizer, and loss criterion"
   ]
  },
  {
   "cell_type": "code",
   "execution_count": null,
   "metadata": {},
   "outputs": [],
   "source": [
    "input_size = 10\n",
    "output_size = 1\n",
    "hyperparams = {\n",
    "    \"hidden_size\": 2500,\n",
    "    \"sparsity\": 0.9,\n",
    "    \"spectral_radius\": 0.99,\n",
    "    \"a\": 0.6,\n",
    "    \"leak\": 1.0,\n",
    "}\n",
    "\n",
    "reservoir = EchoStateReservoir(input_size, **hyperparams)\n",
    "esn = EchoStateNetwork(reservoir, output_size).float()\n",
    "\n",
    "criterion = torch.nn.MSELoss()\n",
    "optimizer = torch.optim.Adam(esn.parameters(), lr=0.00001)\n",
    "len_data = len(trainset)\n",
    "nsamples = 1000\n",
    "nepochs = 200"
   ]
  },
  {
   "cell_type": "markdown",
   "metadata": {},
   "source": [
    "Train the network"
   ]
  },
  {
   "cell_type": "code",
   "execution_count": null,
   "metadata": {},
   "outputs": [],
   "source": [
    "loss_values = []\n",
    "start = time.time()\n",
    "for epoch in range(nepochs):\n",
    "    total_loss = 0.0\n",
    "    for i, dat in enumerate(trainset, 0):\n",
    "        seq = dat[0]\n",
    "        target = dat[1] \n",
    "\n",
    "        optimizer.zero_grad()\n",
    "\n",
    "        output = esn(seq)[0]  \n",
    "        loss = criterion(output, target) \n",
    "\n",
    "        loss.backward()\n",
    "        optimizer.step()\n",
    "        total_loss += loss.item()\n",
    "    average_loss = total_loss / nsamples\n",
    "    loss_values.append(average_loss)\n",
    "    print(f\"Epoch {epoch+1}, Loss: {average_loss}\")\n",
    "\n",
    "end = time.time()\n",
    "print(\"Training complete\")\n",
    "print(\"num samples = \" + str(nsamples))\n",
    "print(\"num epochs = \" + str(nepochs))\n",
    "print(\"total time = \" + str(end - start) + \" sec\")\n"
   ]
  },
  {
   "cell_type": "markdown",
   "metadata": {},
   "source": [
    "Plot the loss"
   ]
  },
  {
   "cell_type": "code",
   "execution_count": null,
   "metadata": {},
   "outputs": [],
   "source": [
    "fig, ax = plt.subplots(dpi=100)\n",
    "ax.set_xlabel(\"Epoch\")\n",
    "ax.set_ylabel(\"Loss\")\n",
    "ax.plot(range(1, nepochs + 1), loss_values, color=\"red\")\n",
    "plt.show()"
   ]
  },
  {
   "cell_type": "markdown",
   "metadata": {},
   "source": [
    "Plot against desired data, giving R^2 as well"
   ]
  },
  {
   "cell_type": "code",
   "execution_count": null,
   "metadata": {},
   "outputs": [],
   "source": [
    "def test():\n",
    "    t_test = np.linspace(2 * np.pi * 10, 2 * np.pi * 12, 400)  # continuing from where training data stopped\n",
    "    data_test = np.sin(t_test)\n",
    "    X_test, y_test = create_sequences(data_test, n_steps)\n",
    "    testset = TensorDataset(X_test, y_test)\n",
    "    test_loader = DataLoader(testset, shuffle=True)\n",
    "    esn.eval()\n",
    "    predictions = []\n",
    "    with torch.no_grad():\n",
    "        for inputs, targets in test_loader.dataset:\n",
    "            output = esn(inputs)[0]\n",
    "            predictions.append(output)\n",
    "\n",
    "    return predictions\n",
    "\n",
    "\n",
    "predictions = test()\n",
    "t_test = np.linspace(2 * np.pi * 10, 2 * np.pi * 12, 400)\n",
    "plt.plot(torch.cat(predictions).numpy(), label=\"Predictions\")\n",
    "plt.plot([np.sin(y) for y in t_test], label=\"True values\")\n",
    "plt.legend()\n",
    "\n",
    "y_true = np.sin(t_test)\n",
    "y_pred = torch.cat(predictions).numpy().flatten()\n",
    "y_true_mean = np.mean(y_true)\n",
    "ss_tot = np.sum((y_true - y_true_mean) ** 2)\n",
    "ss_res = np.sum((y_true[:390] - y_pred) ** 2)\n",
    "r2 = 1 - ss_res / ss_tot\n",
    "print(\"R^2: \", r2)\n"
   ]
  }
 ],
 "metadata": {
  "kernelspec": {
   "display_name": "Python 3",
   "language": "python",
   "name": "python3"
  },
  "language_info": {
   "codemirror_mode": {
    "name": "ipython",
    "version": 3
   },
   "file_extension": ".py",
   "mimetype": "text/x-python",
   "name": "python",
   "nbconvert_exporter": "python",
   "pygments_lexer": "ipython3",
   "version": "3.10.5"
  }
 },
 "nbformat": 4,
 "nbformat_minor": 4
}
